{
 "cells": [
  {
   "cell_type": "code",
   "execution_count": 1,
   "id": "eb600501",
   "metadata": {},
   "outputs": [
    {
     "name": "stderr",
     "output_type": "stream",
     "text": [
      "c:\\Users\\ishui\\Desktop\\CodeForceAI\\venv\\Lib\\site-packages\\tqdm\\auto.py:21: TqdmWarning: IProgress not found. Please update jupyter and ipywidgets. See https://ipywidgets.readthedocs.io/en/stable/user_install.html\n",
      "  from .autonotebook import tqdm as notebook_tqdm\n"
     ]
    }
   ],
   "source": [
    "from datasets import load_dataset, load_dataset_builder"
   ]
  },
  {
   "cell_type": "code",
   "execution_count": 2,
   "id": "e573df2d",
   "metadata": {},
   "outputs": [
    {
     "data": {
      "text/plain": [
       "{'submission_id': Value('string'),\n",
       " 'source': Value('string'),\n",
       " 'contestId': Value('string'),\n",
       " 'problem_index': Value('string'),\n",
       " 'programmingLanguage': Value('string'),\n",
       " 'verdict': Value('string'),\n",
       " 'testset': Value('string'),\n",
       " 'passedTestCount': Value('float64'),\n",
       " 'timeConsumedMillis': Value('float64'),\n",
       " 'memoryConsumedBytes': Value('float64'),\n",
       " 'creationTimeSeconds': Value('float64'),\n",
       " 'problem_id': Value('string')}"
      ]
     },
     "execution_count": 2,
     "metadata": {},
     "output_type": "execute_result"
    }
   ],
   "source": [
    "ds_builder = load_dataset_builder(\"open-r1/codeforces-submissions\")\n",
    "ds_builder.info.features"
   ]
  },
  {
   "cell_type": "code",
   "execution_count": 3,
   "id": "2bf1d262",
   "metadata": {},
   "outputs": [
    {
     "name": "stderr",
     "output_type": "stream",
     "text": [
      "c:\\Users\\ishui\\Desktop\\CodeForceAI\\venv\\Lib\\site-packages\\huggingface_hub\\file_download.py:143: UserWarning: `huggingface_hub` cache-system uses symlinks by default to efficiently store duplicated files but your machine does not support them in C:\\Users\\ishui\\.cache\\huggingface\\hub\\datasets--open-r1--codeforces-submissions. Caching files will still work but in a degraded version that might require more space on your disk. This warning can be disabled by setting the `HF_HUB_DISABLE_SYMLINKS_WARNING` environment variable. For more details, see https://huggingface.co/docs/huggingface_hub/how-to-cache#limitations.\n",
      "To support symlinks on Windows, you either need to activate Developer Mode or to run Python as an administrator. In order to activate developer mode, see this article: https://docs.microsoft.com/en-us/windows/apps/get-started/enable-your-device-for-development\n",
      "  warnings.warn(message)\n",
      "Generating train split: 100%|██████████| 42467/42467 [00:00<00:00, 137907.59 examples/s]\n"
     ]
    }
   ],
   "source": [
    "ds = load_dataset(\"open-r1/codeforces-submissions\", split=\"train\", name='selected_accepted')"
   ]
  },
  {
   "cell_type": "code",
   "execution_count": 4,
   "id": "62c5c50a",
   "metadata": {},
   "outputs": [
    {
     "data": {
      "text/plain": [
       "Dataset({\n",
       "    features: ['submission_id', 'source', 'contestId', 'problem_index', 'programmingLanguage', 'verdict', 'testset', 'passedTestCount', 'timeConsumedMillis', 'memoryConsumedBytes', 'creationTimeSeconds', 'problem_id', 'og_source'],\n",
       "    num_rows: 42467\n",
       "})"
      ]
     },
     "execution_count": 4,
     "metadata": {},
     "output_type": "execute_result"
    }
   ],
   "source": [
    "ds"
   ]
  },
  {
   "cell_type": "code",
   "execution_count": 5,
   "id": "09ff8adb",
   "metadata": {},
   "outputs": [
    {
     "data": {
      "text/plain": [
       "'#include <cstdio>\\n#include <cmath>\\nconst double eps=1e-4;\\nconst double PI=acos(-1.0);\\ndouble gcd(double x,double y)\\n{\\n    return y>eps? gcd(y,x-floor(x/y)*y):x;\\n}\\n\\ndouble bcos(double a,double b,double c)\\n{\\n     return acos((a*a+b*b-c*c)/(2*a*b));\\n}\\nint main()\\n{\\n    double ax,ay,bx,by,cx,cy;\\n    scanf(\"%lf%lf%lf%lf%lf%lf\",&ax,&ay,&bx,&by,&cx,&cy);\\n    double a=sqrt((ax-bx)*(ax-bx)+(ay-by)*(ay-by));\\n    double b=sqrt((ax-cx)*(ax-cx)+(ay-cy)*(ay-cy));\\n    double c=sqrt((bx-cx)*(bx-cx)+(by-cy)*(by-cy));\\n    double p=(a+b+c)/2;\\n    double s=sqrt(p*(p-a)*(p-b)*(p-c));\\n    double R=(a*b*c)/(4*s);\\n    double A=bcos(b,c,a);\\n    double B=bcos(a,c,b);\\n    double C=bcos(a,b,c);\\n    double n=PI/gcd(A,gcd(B,C));\\n    printf(\"%.11lf\\\\n\",R*R*sin(2*PI/n)*n/2);\\n    return 0;\\n}'"
      ]
     },
     "execution_count": 5,
     "metadata": {},
     "output_type": "execute_result"
    }
   ],
   "source": [
    "ds[0]['source']"
   ]
  },
  {
   "cell_type": "code",
   "execution_count": 6,
   "id": "1ab249d4",
   "metadata": {},
   "outputs": [
    {
     "name": "stdout",
     "output_type": "stream",
     "text": [
      "Programming Language Distribution:\n",
      "programmingLanguage\n",
      "C++20 (GCC 11-64)    9726\n",
      "GNU C++              9624\n",
      "GNU C++11            8222\n",
      "C++14 (GCC 6-32)     5170\n",
      "C++17 (GCC 7-32)     4858\n",
      "C++20 (GCC 13-64)    2366\n",
      "C++17 (GCC 9-64)      652\n",
      "MS C++                614\n",
      "Kotlin 1.4            408\n",
      "GNU C++0x             282\n",
      "Python 3              143\n",
      "PyPy 3-64             129\n",
      "Java 11                74\n",
      "Java 8                 54\n",
      "PyPy 3                 52\n",
      "Kotlin 1.9             52\n",
      "Kotlin 1.7             39\n",
      "Kotlin 1.6              2\n",
      "Name: count, dtype: int64\n",
      "\n",
      "Total unique languages: 18\n",
      "\n",
      "Top 10 languages:\n",
      "programmingLanguage\n",
      "C++20 (GCC 11-64)    9726\n",
      "GNU C++              9624\n",
      "GNU C++11            8222\n",
      "C++14 (GCC 6-32)     5170\n",
      "C++17 (GCC 7-32)     4858\n",
      "C++20 (GCC 13-64)    2366\n",
      "C++17 (GCC 9-64)      652\n",
      "MS C++                614\n",
      "Kotlin 1.4            408\n",
      "GNU C++0x             282\n",
      "Name: count, dtype: int64\n"
     ]
    }
   ],
   "source": [
    "# check programming language distribution\n",
    "language_counts = ds.to_pandas()['programmingLanguage'].value_counts()\n",
    "print(\"Programming Language Distribution:\")\n",
    "print(language_counts)\n",
    "print(f\"\\nTotal unique languages: {len(language_counts)}\")\n",
    "print(f\"\\nTop 10 languages:\")\n",
    "print(language_counts.head(10))\n"
   ]
  }
 ],
 "metadata": {
  "kernelspec": {
   "display_name": "venv",
   "language": "python",
   "name": "python3"
  },
  "language_info": {
   "codemirror_mode": {
    "name": "ipython",
    "version": 3
   },
   "file_extension": ".py",
   "mimetype": "text/x-python",
   "name": "python",
   "nbconvert_exporter": "python",
   "pygments_lexer": "ipython3",
   "version": "3.13.1"
  }
 },
 "nbformat": 4,
 "nbformat_minor": 5
}
